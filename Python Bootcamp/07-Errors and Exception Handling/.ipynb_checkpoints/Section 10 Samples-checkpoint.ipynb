{
 "cells": [
  {
   "cell_type": "code",
   "execution_count": 19,
   "metadata": {},
   "outputs": [],
   "source": [
    "try:\n",
    "    result = 10+20\n",
    "except:\n",
    "    print(\"Something is not adding properly!!\")"
   ]
  },
  {
   "cell_type": "code",
   "execution_count": 18,
   "metadata": {},
   "outputs": [
    {
     "data": {
      "text/plain": [
       "30"
      ]
     },
     "execution_count": 18,
     "metadata": {},
     "output_type": "execute_result"
    }
   ],
   "source": [
    "result"
   ]
  },
  {
   "cell_type": "code",
   "execution_count": 1,
   "metadata": {},
   "outputs": [
    {
     "name": "stdout",
     "output_type": "stream",
     "text": [
      "Something is not adding properly!!\n"
     ]
    }
   ],
   "source": [
    "try:\n",
    "    result = 10+'20'\n",
    "except:\n",
    "    print(\"Something is not adding properly!!\")\n",
    "else:\n",
    "    print(\"Add was successful\")\n",
    "    print(result)\n",
    "\n",
    "#Try it if result is not correctly adding"
   ]
  },
  {
   "cell_type": "code",
   "execution_count": 23,
   "metadata": {},
   "outputs": [
    {
     "name": "stdout",
     "output_type": "stream",
     "text": [
      "There was an error in the OS\n",
      "LOL I WILL ALWAYS RUN MUAHAHAHA\n"
     ]
    }
   ],
   "source": [
    "try:\n",
    "    f = open(\"testfile\",'r')\n",
    "    f.write(\"Test\")\n",
    "except TypeError:\n",
    "    print(\"There was an error in the type\")\n",
    "except OSError:\n",
    "    print('There was an error in the OS')\n",
    "finally:\n",
    "    print('LOL I WILL ALWAYS RUN MUAHAHAHA')"
   ]
  },
  {
   "cell_type": "code",
   "execution_count": 24,
   "metadata": {},
   "outputs": [],
   "source": [
    "def ask_for_int():\n",
    "    \n",
    "    try:\n",
    "        result = int(input(\"Please provide a number: \"))\n",
    "    except:\n",
    "        print(\"That is not a number\")\n",
    "    finally:\n",
    "        print(\"End of the line buckaroo\")"
   ]
  },
  {
   "cell_type": "code",
   "execution_count": 25,
   "metadata": {},
   "outputs": [
    {
     "name": "stdout",
     "output_type": "stream",
     "text": [
      "Please provide a number: 20\n",
      "End of the line buckaroo\n"
     ]
    }
   ],
   "source": [
    "ask_for_int()"
   ]
  },
  {
   "cell_type": "code",
   "execution_count": 26,
   "metadata": {},
   "outputs": [
    {
     "name": "stdout",
     "output_type": "stream",
     "text": [
      "Please provide a number: twenty\n",
      "That is not a number\n",
      "End of the line buckaroo\n"
     ]
    }
   ],
   "source": [
    "ask_for_int()"
   ]
  },
  {
   "cell_type": "code",
   "execution_count": 38,
   "metadata": {},
   "outputs": [],
   "source": [
    "def ask_for_int():\n",
    "    while True:\n",
    "        try:\n",
    "            result = int(input(\"Please provide a number: \"))\n",
    "        except:\n",
    "            print(\"That is not a number\")\n",
    "            continue #Goes back to the top of the loop, hence the try method is called again\n",
    "        else:\n",
    "            print(f'Thank you for the number {result}')\n",
    "            break #Breaks out the while loop if no exception\n",
    "        finally:\n",
    "            print(\"End of the line buckaroo\")"
   ]
  },
  {
   "cell_type": "code",
   "execution_count": 39,
   "metadata": {},
   "outputs": [
    {
     "name": "stdout",
     "output_type": "stream",
     "text": [
      "Please provide a number: 20\n",
      "Thank you for the number 20\n",
      "End of the line buckaroo\n"
     ]
    }
   ],
   "source": [
    "ask_for_int()"
   ]
  },
  {
   "cell_type": "code",
   "execution_count": 40,
   "metadata": {},
   "outputs": [
    {
     "name": "stdout",
     "output_type": "stream",
     "text": [
      "Please provide a number: twenty\n",
      "That is not a number\n",
      "End of the line buckaroo\n",
      "Please provide a number: \"4\"\n",
      "That is not a number\n",
      "End of the line buckaroo\n",
      "Please provide a number: 50\n",
      "Thank you for the number 50\n",
      "End of the line buckaroo\n"
     ]
    }
   ],
   "source": [
    "ask_for_int()"
   ]
  },
  {
   "cell_type": "code",
   "execution_count": null,
   "metadata": {},
   "outputs": [],
   "source": []
  }
 ],
 "metadata": {
  "kernelspec": {
   "display_name": "Python 3",
   "language": "python",
   "name": "python3"
  },
  "language_info": {
   "codemirror_mode": {
    "name": "ipython",
    "version": 3
   },
   "file_extension": ".py",
   "mimetype": "text/x-python",
   "name": "python",
   "nbconvert_exporter": "python",
   "pygments_lexer": "ipython3",
   "version": "3.8.3"
  }
 },
 "nbformat": 4,
 "nbformat_minor": 4
}
