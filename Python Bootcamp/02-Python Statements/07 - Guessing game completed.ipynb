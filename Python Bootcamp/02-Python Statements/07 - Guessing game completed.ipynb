{
 "cells": [
  {
   "cell_type": "markdown",
   "metadata": {},
   "source": [
    "First, pick a random integer from 1 to 100 using the random module and assign it to a variable¶\n",
    "Note: random.randint(a,b) returns a random integer in range [a, b], including both end points."
   ]
  },
  {
   "cell_type": "code",
   "execution_count": 1,
   "metadata": {},
   "outputs": [
    {
     "data": {
      "text/plain": [
       "66"
      ]
     },
     "execution_count": 1,
     "metadata": {},
     "output_type": "execute_result"
    }
   ],
   "source": [
    "import random\n",
    "num = random.randint(1,100)\n",
    "num"
   ]
  },
  {
   "cell_type": "markdown",
   "metadata": {},
   "source": [
    "#### Next, print an introduction to the game and explain the rules"
   ]
  },
  {
   "cell_type": "code",
   "execution_count": 2,
   "metadata": {},
   "outputs": [
    {
     "name": "stdout",
     "output_type": "stream",
     "text": [
      "Welcome to the guessing game!\n",
      "The rules of this game are:\n",
      "\n",
      "I(the subconscious of your mind) will choose a random number between 1, and 100\n",
      "You then attempt to guess this number. There is no limit to how many guesses you have, however,\n",
      "each incorrect guess is counted!\n",
      "If you are within 10 of the number, I will say warm, and if further than 10, I will say cold\n",
      "Subsequently, if you become closer to my number, I will say warmer, and for the latter, I will\n",
      "say colder\n",
      "\n",
      "Good luck, happy guessing!\n"
     ]
    }
   ],
   "source": [
    "print(\"Welcome to the guessing game!\")\n",
    "print(\"The rules of this game are:\\n\")\n",
    "print(\"I(the subconscious of your mind) will choose a random number between 1, and 100\")\n",
    "print(\"You then attempt to guess this number. There is no limit to how many guesses you have, however,\")\n",
    "print(\"each incorrect guess is counted!\")\n",
    "print(\"If you are within 10 of the number, I will say warm, and if further than 10, I will say cold\")\n",
    "print('Subsequently, if you become closer to my number, I will say warmer, and for the latter, I will')\n",
    "print(\"say colder\\n\")\n",
    "print(\"Good luck, happy guessing!\")"
   ]
  },
  {
   "cell_type": "markdown",
   "metadata": {},
   "source": [
    "#### Create a list to store guesses\n",
    "\n",
    "Hint: zero is a good placeholder value. It's useful because it evaluates to \"False\""
   ]
  },
  {
   "cell_type": "code",
   "execution_count": 3,
   "metadata": {},
   "outputs": [],
   "source": [
    "guesses = [0]"
   ]
  },
  {
   "cell_type": "markdown",
   "metadata": {},
   "source": [
    "#### Write a `while` loop that asks for a valid guess. Test it a few times to make sure it works."
   ]
  },
  {
   "cell_type": "markdown",
   "metadata": {},
   "source": [
    "#### Write a `while` loop that compares the player's guess to our number. If the player guesses correctly, break from the loop. Otherwise, tell the player if they're warmer or colder, and continue asking for guesses.\n",
    "\n",
    "Some hints:\n",
    "* it may help to sketch out all possible combinations on paper first!\n",
    "* you can use the `abs()` function to find the positive difference between two numbers\n",
    "* if you append all new guesses to the list, then the previous guess is given as `guesses[-2]`"
   ]
  },
  {
   "cell_type": "code",
   "execution_count": 4,
   "metadata": {},
   "outputs": [
    {
     "name": "stdout",
     "output_type": "stream",
     "text": [
      "What is your guess? \t:54\n",
      "Cold\n",
      "What is your guess? \t:90\n",
      "Colder\n",
      "What is your guess? \t:24\n",
      "Colder\n",
      "What is your guess? \t:38\n",
      "Warmer\n",
      "What is your guess? \t:40\n",
      "Warmer\n",
      "What is your guess? \t:45\n",
      "Warmer\n",
      "What is your guess? \t:48\n",
      "Warmer\n",
      "What is your guess? \t:50\n",
      "Warmer\n",
      "What is your guess? \t:52\n",
      "Warmer\n",
      "What is your guess? \t:53\n",
      "Warmer\n",
      "What is your guess? \t:56\n",
      "Warmer\n",
      "What is your guess? \t:58\n",
      "Warmer\n",
      "What is your guess? \t:59\n",
      "Warmer\n",
      "What is your guess? \t:60\n",
      "Warmer\n",
      "What is your guess? \t:66\n",
      "Congratulations! You caught me, in 15 guesses!\n"
     ]
    }
   ],
   "source": [
    "while True:\n",
    "    guess = int(input(\"What is your guess? \\t:\"))\n",
    "    \n",
    "    if guess < 1 or guess > 100:\n",
    "        print('I SAID BETWEEN 1 AND 100!!!')\n",
    "        continue\n",
    "    \n",
    "    if guess == num:\n",
    "        print(f'Congratulations! You caught me, in {len(guesses)} guesses!')\n",
    "        break\n",
    "        \n",
    "    guesses.append(guess)\n",
    "    \n",
    "    if guesses[-2]:\n",
    "        if abs(num-guess) < abs(num-guesses[-2]):\n",
    "            print (\"Warmer\")\n",
    "        else:\n",
    "            print(\"Colder\")\n",
    "            \n",
    "    else:\n",
    "        if abs(num-guess)<=10:\n",
    "            print('Warm')\n",
    "        else:\n",
    "            print('Cold')\n"
   ]
  },
  {
   "cell_type": "code",
   "execution_count": null,
   "metadata": {},
   "outputs": [],
   "source": []
  }
 ],
 "metadata": {
  "kernelspec": {
   "display_name": "Python 3",
   "language": "python",
   "name": "python3"
  },
  "language_info": {
   "codemirror_mode": {
    "name": "ipython",
    "version": 3
   },
   "file_extension": ".py",
   "mimetype": "text/x-python",
   "name": "python",
   "nbconvert_exporter": "python",
   "pygments_lexer": "ipython3",
   "version": "3.8.5"
  }
 },
 "nbformat": 4,
 "nbformat_minor": 4
}
